{
 "cells": [
  {
   "cell_type": "code",
   "execution_count": 27,
   "metadata": {},
   "outputs": [],
   "source": [
    "import cv2, os, time\n",
    "import numpy as np\n",
    "import pandas as pd\n",
    "import math"
   ]
  },
  {
   "cell_type": "code",
   "execution_count": 28,
   "metadata": {},
   "outputs": [],
   "source": [
    "def from_folder(folder_path):\n",
    "    data_folder= os.path.join(os.curdir, folder_path)\n",
    "    data_set = [os.path.join(data_folder,file) for file in os.listdir(data_folder) if os.path.isfile(os.path.join(data_folder,file))]\n",
    "    images = [cv2.imread(x , cv2.IMREAD_GRAYSCALE) for x in data_set]\n",
    "    return images"
   ]
  },
  {
   "cell_type": "code",
   "execution_count": 29,
   "metadata": {},
   "outputs": [],
   "source": [
    "def brisk(folder):\n",
    "    detector = cv2.BRISK_create()\n",
    "    all_imgs = from_folder(folder)\n",
    "    good_img = all_imgs[0]\n",
    "\n",
    "    for i in all_imgs:\n",
    "        start_t = time.time()\n",
    "        kpts1,des1 = detector.detectAndCompute(good_img,None)\n",
    "        kpts2,des2 = detector.detectAndCompute(i,None)\n",
    "  \n",
    "        des1 = np.float32(des1)\n",
    "        des2 = np.float32(des2)\n",
    "        \n",
    "        FLANN_INDEX_KDTREE = 0\n",
    "        index_params = dict(algorithm = FLANN_INDEX_KDTREE, trees = 5)\n",
    "        search_params = dict(checks=10)\n",
    "\n",
    "        flann = cv2.FlannBasedMatcher(index_params, search_params)\n",
    "\n",
    "        try:\n",
    "            matches = flann.knnMatch(des1,des2,k=2)\n",
    "\n",
    "\n",
    "            brisk_g = []\n",
    "            for m, n in matches:\n",
    "                if m.distance < 0.8 * n.distance:\n",
    "                    brisk_g.append(m)\n",
    "            v=np.inf\n",
    "            if len(brisk_g)>10:\n",
    "                M, mask = cv2.findHomography(\n",
    "                    np.float32([ kpts1[m_.queryIdx].pt for m_ in brisk_g ]).reshape(-1,1,2),\n",
    "                    np.float32([ kpts2[m_.trainIdx].pt for m_ in brisk_g ]).reshape(-1,1,2),\n",
    "                cv2.RANSAC,5.0)\n",
    "                if M is None:\n",
    "                    time_spend = time.time() - start_t\n",
    "                    yield 0 ,np.inf, time_spend\n",
    "                mm = mask.ravel().tolist() \n",
    "                hight, wight = good_img.shape\n",
    "                pts = np.float32([ [0,0], [0,hight-1], [wight-1,hight-1], [wight-1,0] ]).reshape(-1,1,2)\n",
    "                dst = cv2.perspectiveTransform(pts, M)\n",
    "                v = np.mean([np.sqrt(np.sum(x)) for x in (np.power(pts-dst,2))]/(np.sqrt(hight**2 + wight**2)))   \n",
    "            else:\n",
    "                mm = [0]\n",
    "\n",
    "            time_spend = time.time() - start_t\n",
    "        except:\n",
    "            continue\n",
    "\n",
    "        yield np.sum(mm)/(len(brisk_g)), v, time_spend"
   ]
  },
  {
   "cell_type": "code",
   "execution_count": 30,
   "metadata": {},
   "outputs": [],
   "source": [
    "def akaze(folder):\n",
    "    detector = cv2.AKAZE_create()\n",
    "    all_imgs = from_folder(folder)\n",
    "    good_img = all_imgs[0]\n",
    "\n",
    "    for i in all_imgs:\n",
    "        start_t = time.time()\n",
    "        kpts1,des1 = detector.detectAndCompute(good_img,None)\n",
    "        kpts2,des2 = detector.detectAndCompute(i,None)\n",
    "  \n",
    "        des1 = np.float32(des1)\n",
    "        des2 = np.float32(des2)\n",
    "        \n",
    "        FLANN_INDEX_KDTREE = 0\n",
    "        index_params = dict(algorithm = FLANN_INDEX_KDTREE, trees = 5)\n",
    "        search_params = dict(checks=10)\n",
    "\n",
    "        flann = cv2.FlannBasedMatcher(index_params, search_params)\n",
    "\n",
    "        try:\n",
    "            matches = flann.knnMatch(des1,des2,k=2)\n",
    "\n",
    "\n",
    "            akaze_g = []\n",
    "            for m, n in matches:\n",
    "                if m.distance < 0.8 * n.distance:\n",
    "                    akaze_g.append(m)\n",
    "            v=np.inf\n",
    "            if len(akaze_g)>10:\n",
    "                M, mask = cv2.findHomography(\n",
    "                    np.float32([ kpts1[m_.queryIdx].pt for m_ in akaze_g ]).reshape(-1,1,2),\n",
    "                    np.float32([ kpts2[m_.trainIdx].pt for m_ in akaze_g ]).reshape(-1,1,2),\n",
    "                cv2.RANSAC,5.0)\n",
    "                if M is None:\n",
    "                    time_spend = time.time() - start_t\n",
    "                    yield 0 ,np.inf, time_spend\n",
    "                mm = mask.ravel().tolist() \n",
    "                hight, wight = good_img.shape\n",
    "                pts = np.float32([ [0,0], [0,hight-1], [wight-1,hight-1], [wight-1,0] ]).reshape(-1,1,2)\n",
    "                dst = cv2.perspectiveTransform(pts, M)\n",
    "                v = np.mean([np.sqrt(np.sum(x)) for x in (np.power(pts-dst,2))]/(np.sqrt(hight**2 + wight**2)))   \n",
    "            else:\n",
    "                mm = [0]\n",
    "\n",
    "            time_spend = time.time() - start_t\n",
    "        except:\n",
    "            continue\n",
    "\n",
    "        yield np.sum(mm)/(len(akaze_g)), v, time_spend"
   ]
  },
  {
   "cell_type": "code",
   "execution_count": 31,
   "metadata": {},
   "outputs": [],
   "source": [
    "def kaze(folder):\n",
    "    detector = cv2.KAZE_create()\n",
    "    all_imgs = from_folder(folder)\n",
    "    good_img = all_imgs[0]\n",
    "\n",
    "    for i in all_imgs:\n",
    "        start_t = time.time()\n",
    "        kpts1,des1 = detector.detectAndCompute(good_img,None)\n",
    "        kpts2,des2 = detector.detectAndCompute(i,None)\n",
    "  \n",
    "        des1 = np.float32(des1)\n",
    "        des2 = np.float32(des2)\n",
    "        \n",
    "        FLANN_INDEX_KDTREE = 0\n",
    "        index_params = dict(algorithm = FLANN_INDEX_KDTREE, trees = 5)\n",
    "        search_params = dict(checks=10)\n",
    "\n",
    "        flann = cv2.FlannBasedMatcher(index_params, search_params)\n",
    "\n",
    "        try:\n",
    "            matches = flann.knnMatch(des1,des2,k=2)\n",
    "\n",
    "\n",
    "            kaze_g = []\n",
    "            for m, n in matches:\n",
    "                if m.distance < 0.8 * n.distance:\n",
    "                    kaze_g.append(m)\n",
    "            v=np.inf\n",
    "            if len(kaze_g)>10:\n",
    "                M, mask = cv2.findHomography(\n",
    "                    np.float32([ kpts1[m_.queryIdx].pt for m_ in kaze_g ]).reshape(-1,1,2),\n",
    "                    np.float32([ kpts2[m_.trainIdx].pt for m_ in kaze_g ]).reshape(-1,1,2),\n",
    "                cv2.RANSAC,5.0)\n",
    "                if M is None:\n",
    "                    time_spend = time.time() - start_t\n",
    "                    yield 0 ,np.inf, time_spend\n",
    "                mm = mask.ravel().tolist() \n",
    "                hight, wight = good_img.shape\n",
    "                pts = np.float32([ [0,0], [0,hight-1], [wight-1,hight-1], [wight-1,0] ]).reshape(-1,1,2)\n",
    "                dst = cv2.perspectiveTransform(pts, M)\n",
    "                v = np.mean([np.sqrt(np.sum(x)) for x in (np.power(pts-dst,2))]/(np.sqrt(hight**2 + wight**2)))   \n",
    "            else:\n",
    "                mm = [0]\n",
    "\n",
    "            time_spend = time.time() - start_t\n",
    "        except:\n",
    "            continue\n",
    "\n",
    "        yield np.sum(mm)/(len(kaze_g)), v, time_spend"
   ]
  },
  {
   "cell_type": "code",
   "execution_count": 32,
   "metadata": {},
   "outputs": [],
   "source": [
    "def results(algorithm, file):\n",
    "    with open(file, 'w') as file:\n",
    "        df = pd.DataFrame(columns=['right_matches', 'local_err', 'time'])\n",
    "        for i in algorithm:    \n",
    "            print(i, file=file, sep='\\n')\n",
    "            df = df.append({'right_matches': i[0], 'local_err': i[1], 'time': i[2]}, ignore_index=True)\n",
    "    print(df[df<1000000].mean(axis = 0))"
   ]
  },
  {
   "cell_type": "code",
   "execution_count": 33,
   "metadata": {},
   "outputs": [
    {
     "name": "stdout",
     "output_type": "stream",
     "text": [
      "right_matches    0.480726\n",
      "local_err        0.631314\n",
      "time             0.951944\n",
      "dtype: float64\n"
     ]
    }
   ],
   "source": [
    "results(kaze('sts\\s1'), 'kaze1.txt')"
   ]
  },
  {
   "cell_type": "code",
   "execution_count": 34,
   "metadata": {},
   "outputs": [
    {
     "name": "stderr",
     "output_type": "stream",
     "text": [
      "C:\\Users\\user\\Anaconda3\\lib\\site-packages\\ipykernel_launcher.py:49: RuntimeWarning: invalid value encountered in long_scalars\n",
      "right_matches    0.392926\n",
      "local_err        0.750696\n",
      "time             0.165271\n",
      "dtype: float64\n"
     ]
    }
   ],
   "source": [
    "results(akaze('sts\\s1'), 'akaze1.txt')"
   ]
  },
  {
   "cell_type": "code",
   "execution_count": 35,
   "metadata": {},
   "outputs": [
    {
     "name": "stdout",
     "output_type": "stream",
     "text": [
      "right_matches    0.438110\n",
      "local_err        0.607470\n",
      "time             1.274831\n",
      "dtype: float64\n"
     ]
    }
   ],
   "source": [
    "results(brisk('sts\\s1'), 'brisk1.txt')"
   ]
  },
  {
   "cell_type": "code",
   "execution_count": 36,
   "metadata": {},
   "outputs": [
    {
     "name": "stdout",
     "output_type": "stream",
     "text": [
      "right_matches    0.551921\n",
      "local_err        1.028448\n",
      "time             0.769602\n",
      "dtype: float64\n"
     ]
    }
   ],
   "source": [
    "results(kaze('sts\\s2'), 'kaze2.txt')"
   ]
  },
  {
   "cell_type": "code",
   "execution_count": 37,
   "metadata": {},
   "outputs": [
    {
     "name": "stdout",
     "output_type": "stream",
     "text": [
      "right_matches    0.564392\n",
      "local_err        0.704525\n",
      "time             0.119953\n",
      "dtype: float64\n"
     ]
    }
   ],
   "source": [
    "results(akaze('sts\\s2'), 'akaze2.txt')"
   ]
  },
  {
   "cell_type": "code",
   "execution_count": 38,
   "metadata": {},
   "outputs": [
    {
     "name": "stdout",
     "output_type": "stream",
     "text": [
      "right_matches    0.530004\n",
      "local_err        0.935587\n",
      "time             1.666466\n",
      "dtype: float64\n"
     ]
    }
   ],
   "source": [
    "results(brisk('sts\\s2'), 'brisk2.txt')"
   ]
  },
  {
   "cell_type": "code",
   "execution_count": 39,
   "metadata": {},
   "outputs": [
    {
     "name": "stderr",
     "output_type": "stream",
     "text": [
      "C:\\Users\\user\\Anaconda3\\lib\\site-packages\\ipykernel_launcher.py:49: RuntimeWarning: invalid value encountered in long_scalars\n",
      "right_matches    0.275669\n",
      "local_err        0.928411\n",
      "time             0.707441\n",
      "dtype: float64\n"
     ]
    }
   ],
   "source": [
    "results(kaze('sts\\s3'), 'kaze3.txt')"
   ]
  },
  {
   "cell_type": "code",
   "execution_count": 40,
   "metadata": {},
   "outputs": [
    {
     "name": "stderr",
     "output_type": "stream",
     "text": [
      "C:\\Users\\user\\Anaconda3\\lib\\site-packages\\ipykernel_launcher.py:49: RuntimeWarning: invalid value encountered in long_scalars\n",
      "right_matches    0.077171\n",
      "local_err        4.945223\n",
      "time             0.083281\n",
      "dtype: float64\n"
     ]
    }
   ],
   "source": [
    "results(akaze('sts\\s3'), 'akaze3.txt')"
   ]
  },
  {
   "cell_type": "code",
   "execution_count": 41,
   "metadata": {},
   "outputs": [
    {
     "name": "stderr",
     "output_type": "stream",
     "text": [
      "C:\\Users\\user\\Anaconda3\\lib\\site-packages\\ipykernel_launcher.py:49: RuntimeWarning: invalid value encountered in long_scalars\n",
      "right_matches    0.034810\n",
      "local_err        0.269577\n",
      "time             0.026027\n",
      "dtype: float64\n"
     ]
    }
   ],
   "source": [
    "results(brisk('sts\\s3'), 'brisk3.txt')"
   ]
  },
  {
   "cell_type": "markdown",
   "metadata": {},
   "source": [
    "**Тож можемо зробити висновки: в змаганні по швидкості переміг Akaze, який виявився найшвидшим. Середні результати по кожній з вибірок по відносній похибці локалізації і кількості суміщених ознак виявилися майже однаковими, проте на 3й вибірці Казе виявився кращий за інших Детальні результати по кожному зображенню - в файлах.**"
   ]
  },
  {
   "cell_type": "code",
   "execution_count": null,
   "metadata": {},
   "outputs": [],
   "source": []
  }
 ],
 "metadata": {
  "file_extension": ".py",
  "kernelspec": {
   "display_name": "Python 3",
   "language": "python",
   "name": "python3"
  },
  "language_info": {
   "codemirror_mode": {
    "name": "ipython",
    "version": 3
   },
   "file_extension": ".py",
   "mimetype": "text/x-python",
   "name": "python",
   "nbconvert_exporter": "python",
   "pygments_lexer": "ipython3",
   "version": "3.7.4"
  },
  "mimetype": "text/x-python",
  "name": "python",
  "npconvert_exporter": "python",
  "pygments_lexer": "ipython3",
  "version": 3
 },
 "nbformat": 4,
 "nbformat_minor": 2
}
